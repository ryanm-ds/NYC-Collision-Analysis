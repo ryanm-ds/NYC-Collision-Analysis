{
 "cells": [
  {
   "cell_type": "code",
   "execution_count": 1,
   "metadata": {},
   "outputs": [],
   "source": [
    "import pandas as pd \n",
    "import numpy as np\n",
    "import matplotlib.pyplot as plt\n",
    "import seaborn as sns\n",
    "%matplotlib inline\n",
    "\n",
    "sns.set_style(\"darkgrid\")"
   ]
  },
  {
   "cell_type": "code",
   "execution_count": 2,
   "metadata": {},
   "outputs": [
    {
     "name": "stderr",
     "output_type": "stream",
     "text": [
      "/Users/ryanmichels/anaconda/lib/python3.6/site-packages/IPython/core/interactiveshell.py:2717: DtypeWarning: Columns (3) have mixed types. Specify dtype option on import or set low_memory=False.\n",
      "  interactivity=interactivity, compiler=compiler, result=result)\n"
     ]
    }
   ],
   "source": [
    "df = pd.read_csv('NYPD_Motor_Vehicle_Collisions_-_Crashes.csv')"
   ]
  },
  {
   "cell_type": "code",
   "execution_count": 74,
   "metadata": {
    "scrolled": true
   },
   "outputs": [
    {
     "data": {
      "text/html": [
       "<div>\n",
       "<style>\n",
       "    .dataframe thead tr:only-child th {\n",
       "        text-align: right;\n",
       "    }\n",
       "\n",
       "    .dataframe thead th {\n",
       "        text-align: left;\n",
       "    }\n",
       "\n",
       "    .dataframe tbody tr th {\n",
       "        vertical-align: top;\n",
       "    }\n",
       "</style>\n",
       "<table border=\"1\" class=\"dataframe\">\n",
       "  <thead>\n",
       "    <tr style=\"text-align: right;\">\n",
       "      <th></th>\n",
       "      <th>DATE</th>\n",
       "      <th>TIME</th>\n",
       "      <th>BOROUGH</th>\n",
       "      <th>ZIP CODE</th>\n",
       "      <th>LATITUDE</th>\n",
       "      <th>LONGITUDE</th>\n",
       "      <th>LOCATION</th>\n",
       "      <th>ON STREET NAME</th>\n",
       "      <th>CROSS STREET NAME</th>\n",
       "      <th>OFF STREET NAME</th>\n",
       "      <th>...</th>\n",
       "      <th>CONTRIBUTING FACTOR VEHICLE 3</th>\n",
       "      <th>CONTRIBUTING FACTOR VEHICLE 4</th>\n",
       "      <th>CONTRIBUTING FACTOR VEHICLE 5</th>\n",
       "      <th>UNIQUE ID</th>\n",
       "      <th>VEHICLE TYPE CODE 1</th>\n",
       "      <th>VEHICLE TYPE CODE 2</th>\n",
       "      <th>VEHICLE TYPE CODE 3</th>\n",
       "      <th>VEHICLE TYPE CODE 4</th>\n",
       "      <th>VEHICLE TYPE CODE 5</th>\n",
       "      <th>HOUR</th>\n",
       "    </tr>\n",
       "  </thead>\n",
       "  <tbody>\n",
       "    <tr>\n",
       "      <th>0</th>\n",
       "      <td>07/12/2012</td>\n",
       "      <td>8:06</td>\n",
       "      <td>BROOKLYN</td>\n",
       "      <td>11230</td>\n",
       "      <td>40.619397</td>\n",
       "      <td>-73.969566</td>\n",
       "      <td>POINT (-73.9695659 40.6193973)</td>\n",
       "      <td>OCEAN PARKWAY</td>\n",
       "      <td>AVENUE L</td>\n",
       "      <td>NaN</td>\n",
       "      <td>...</td>\n",
       "      <td>Unspecified</td>\n",
       "      <td>Unspecified</td>\n",
       "      <td>NaN</td>\n",
       "      <td>130003</td>\n",
       "      <td>SPORT UTILITY / STATION WAGON</td>\n",
       "      <td>SPORT UTILITY / STATION WAGON</td>\n",
       "      <td>PASSENGER VEHICLE</td>\n",
       "      <td>SPORT UTILITY / STATION WAGON</td>\n",
       "      <td>NaN</td>\n",
       "      <td>8</td>\n",
       "    </tr>\n",
       "    <tr>\n",
       "      <th>1</th>\n",
       "      <td>07/14/2012</td>\n",
       "      <td>14:15</td>\n",
       "      <td>QUEENS</td>\n",
       "      <td>11354</td>\n",
       "      <td>40.774412</td>\n",
       "      <td>-73.806785</td>\n",
       "      <td>POINT (-73.8067849 40.774412)</td>\n",
       "      <td>25 DRIVE</td>\n",
       "      <td>157 STREET</td>\n",
       "      <td>NaN</td>\n",
       "      <td>...</td>\n",
       "      <td>NaN</td>\n",
       "      <td>NaN</td>\n",
       "      <td>NaN</td>\n",
       "      <td>245755</td>\n",
       "      <td>PASSENGER VEHICLE</td>\n",
       "      <td>PASSENGER VEHICLE</td>\n",
       "      <td>NaN</td>\n",
       "      <td>NaN</td>\n",
       "      <td>NaN</td>\n",
       "      <td>14</td>\n",
       "    </tr>\n",
       "    <tr>\n",
       "      <th>2</th>\n",
       "      <td>07/14/2012</td>\n",
       "      <td>21:00</td>\n",
       "      <td>QUEENS</td>\n",
       "      <td>11372</td>\n",
       "      <td>40.753538</td>\n",
       "      <td>-73.886897</td>\n",
       "      <td>POINT (-73.8868974 40.7535377)</td>\n",
       "      <td>80 STREET</td>\n",
       "      <td>34 AVENUE</td>\n",
       "      <td>NaN</td>\n",
       "      <td>...</td>\n",
       "      <td>NaN</td>\n",
       "      <td>NaN</td>\n",
       "      <td>NaN</td>\n",
       "      <td>279750</td>\n",
       "      <td>PASSENGER VEHICLE</td>\n",
       "      <td>UNKNOWN</td>\n",
       "      <td>NaN</td>\n",
       "      <td>NaN</td>\n",
       "      <td>NaN</td>\n",
       "      <td>21</td>\n",
       "    </tr>\n",
       "    <tr>\n",
       "      <th>3</th>\n",
       "      <td>07/15/2012</td>\n",
       "      <td>11:00</td>\n",
       "      <td>MANHATTAN</td>\n",
       "      <td>10028</td>\n",
       "      <td>40.778815</td>\n",
       "      <td>-73.956083</td>\n",
       "      <td>POINT (-73.9560828 40.7788145)</td>\n",
       "      <td>EAST 85 STREET</td>\n",
       "      <td>LEXINGTON AVENUE</td>\n",
       "      <td>NaN</td>\n",
       "      <td>...</td>\n",
       "      <td>NaN</td>\n",
       "      <td>NaN</td>\n",
       "      <td>NaN</td>\n",
       "      <td>45066</td>\n",
       "      <td>TAXI</td>\n",
       "      <td>TAXI</td>\n",
       "      <td>NaN</td>\n",
       "      <td>NaN</td>\n",
       "      <td>NaN</td>\n",
       "      <td>11</td>\n",
       "    </tr>\n",
       "    <tr>\n",
       "      <th>4</th>\n",
       "      <td>07/06/2012</td>\n",
       "      <td>7:45</td>\n",
       "      <td>QUEENS</td>\n",
       "      <td>11101</td>\n",
       "      <td>40.744658</td>\n",
       "      <td>-73.948523</td>\n",
       "      <td>POINT (-73.9485231 40.7446585)</td>\n",
       "      <td>JACKSON AVENUE</td>\n",
       "      <td>21 STREET</td>\n",
       "      <td>NaN</td>\n",
       "      <td>...</td>\n",
       "      <td>NaN</td>\n",
       "      <td>NaN</td>\n",
       "      <td>NaN</td>\n",
       "      <td>238689</td>\n",
       "      <td>SPORT UTILITY / STATION WAGON</td>\n",
       "      <td>LARGE COM VEH(6 OR MORE TIRES)</td>\n",
       "      <td>NaN</td>\n",
       "      <td>NaN</td>\n",
       "      <td>NaN</td>\n",
       "      <td>7</td>\n",
       "    </tr>\n",
       "  </tbody>\n",
       "</table>\n",
       "<p>5 rows × 30 columns</p>\n",
       "</div>"
      ],
      "text/plain": [
       "         DATE   TIME    BOROUGH ZIP CODE   LATITUDE  LONGITUDE  \\\n",
       "0  07/12/2012   8:06   BROOKLYN    11230  40.619397 -73.969566   \n",
       "1  07/14/2012  14:15     QUEENS    11354  40.774412 -73.806785   \n",
       "2  07/14/2012  21:00     QUEENS    11372  40.753538 -73.886897   \n",
       "3  07/15/2012  11:00  MANHATTAN    10028  40.778815 -73.956083   \n",
       "4  07/06/2012   7:45     QUEENS    11101  40.744658 -73.948523   \n",
       "\n",
       "                         LOCATION                    ON STREET NAME  \\\n",
       "0  POINT (-73.9695659 40.6193973)  OCEAN PARKWAY                      \n",
       "1   POINT (-73.8067849 40.774412)  25 DRIVE                           \n",
       "2  POINT (-73.8868974 40.7535377)  80 STREET                          \n",
       "3  POINT (-73.9560828 40.7788145)  EAST 85 STREET                     \n",
       "4  POINT (-73.9485231 40.7446585)  JACKSON AVENUE                     \n",
       "\n",
       "                  CROSS STREET NAME OFF STREET NAME ...   \\\n",
       "0  AVENUE L                                     NaN ...    \n",
       "1  157 STREET                                   NaN ...    \n",
       "2  34 AVENUE                                    NaN ...    \n",
       "3  LEXINGTON AVENUE                             NaN ...    \n",
       "4  21 STREET                                    NaN ...    \n",
       "\n",
       "   CONTRIBUTING FACTOR VEHICLE 3  CONTRIBUTING FACTOR VEHICLE 4  \\\n",
       "0                    Unspecified                    Unspecified   \n",
       "1                            NaN                            NaN   \n",
       "2                            NaN                            NaN   \n",
       "3                            NaN                            NaN   \n",
       "4                            NaN                            NaN   \n",
       "\n",
       "   CONTRIBUTING FACTOR VEHICLE 5  UNIQUE ID            VEHICLE TYPE CODE 1  \\\n",
       "0                            NaN     130003  SPORT UTILITY / STATION WAGON   \n",
       "1                            NaN     245755              PASSENGER VEHICLE   \n",
       "2                            NaN     279750              PASSENGER VEHICLE   \n",
       "3                            NaN      45066                           TAXI   \n",
       "4                            NaN     238689  SPORT UTILITY / STATION WAGON   \n",
       "\n",
       "              VEHICLE TYPE CODE 2  VEHICLE TYPE CODE 3  \\\n",
       "0   SPORT UTILITY / STATION WAGON    PASSENGER VEHICLE   \n",
       "1               PASSENGER VEHICLE                  NaN   \n",
       "2                         UNKNOWN                  NaN   \n",
       "3                            TAXI                  NaN   \n",
       "4  LARGE COM VEH(6 OR MORE TIRES)                  NaN   \n",
       "\n",
       "             VEHICLE TYPE CODE 4 VEHICLE TYPE CODE 5 HOUR  \n",
       "0  SPORT UTILITY / STATION WAGON                 NaN    8  \n",
       "1                            NaN                 NaN   14  \n",
       "2                            NaN                 NaN   21  \n",
       "3                            NaN                 NaN   11  \n",
       "4                            NaN                 NaN    7  \n",
       "\n",
       "[5 rows x 30 columns]"
      ]
     },
     "execution_count": 74,
     "metadata": {},
     "output_type": "execute_result"
    }
   ],
   "source": [
    "df.head()"
   ]
  },
  {
   "cell_type": "code",
   "execution_count": 75,
   "metadata": {},
   "outputs": [
    {
     "data": {
      "text/plain": [
       "DATE                             1558237\n",
       "TIME                             1558237\n",
       "BOROUGH                          1088134\n",
       "ZIP CODE                         1087947\n",
       "LATITUDE                         1365883\n",
       "LONGITUDE                        1365883\n",
       "LOCATION                         1365883\n",
       "ON STREET NAME                   1254948\n",
       "CROSS STREET NAME                1044964\n",
       "OFF STREET NAME                   211127\n",
       "NUMBER OF PERSONS INJURED        1558220\n",
       "NUMBER OF PERSONS KILLED         1558206\n",
       "NUMBER OF PEDESTRIANS INJURED    1558237\n",
       "NUMBER OF PEDESTRIANS KILLED     1558237\n",
       "NUMBER OF CYCLIST INJURED        1558237\n",
       "NUMBER OF CYCLIST KILLED         1558237\n",
       "NUMBER OF MOTORIST INJURED       1558237\n",
       "NUMBER OF MOTORIST KILLED        1558237\n",
       "CONTRIBUTING FACTOR VEHICLE 1    1554172\n",
       "CONTRIBUTING FACTOR VEHICLE 2    1349807\n",
       "CONTRIBUTING FACTOR VEHICLE 3     100674\n",
       "CONTRIBUTING FACTOR VEHICLE 4      20907\n",
       "CONTRIBUTING FACTOR VEHICLE 5       5343\n",
       "UNIQUE ID                        1558237\n",
       "VEHICLE TYPE CODE 1              1553172\n",
       "VEHICLE TYPE CODE 2              1303444\n",
       "VEHICLE TYPE CODE 3               129925\n",
       "VEHICLE TYPE CODE 4                48725\n",
       "VEHICLE TYPE CODE 5                10452\n",
       "HOUR                             1558237\n",
       "dtype: int64"
      ]
     },
     "execution_count": 75,
     "metadata": {},
     "output_type": "execute_result"
    }
   ],
   "source": [
    "df.count()"
   ]
  },
  {
   "cell_type": "code",
   "execution_count": 4,
   "metadata": {},
   "outputs": [
    {
     "data": {
      "text/plain": [
       "Index(['DATE', 'TIME', 'BOROUGH', 'ZIP CODE', 'LATITUDE', 'LONGITUDE',\n",
       "       'LOCATION', 'ON STREET NAME', 'CROSS STREET NAME', 'OFF STREET NAME',\n",
       "       'NUMBER OF PERSONS INJURED', 'NUMBER OF PERSONS KILLED',\n",
       "       'NUMBER OF PEDESTRIANS INJURED', 'NUMBER OF PEDESTRIANS KILLED',\n",
       "       'NUMBER OF CYCLIST INJURED', 'NUMBER OF CYCLIST KILLED',\n",
       "       'NUMBER OF MOTORIST INJURED', 'NUMBER OF MOTORIST KILLED',\n",
       "       'CONTRIBUTING FACTOR VEHICLE 1', 'CONTRIBUTING FACTOR VEHICLE 2',\n",
       "       'CONTRIBUTING FACTOR VEHICLE 3', 'CONTRIBUTING FACTOR VEHICLE 4',\n",
       "       'CONTRIBUTING FACTOR VEHICLE 5', 'UNIQUE ID', 'VEHICLE TYPE CODE 1',\n",
       "       'VEHICLE TYPE CODE 2', 'VEHICLE TYPE CODE 3', 'VEHICLE TYPE CODE 4',\n",
       "       'VEHICLE TYPE CODE 5'],\n",
       "      dtype='object')"
      ]
     },
     "execution_count": 4,
     "metadata": {},
     "output_type": "execute_result"
    }
   ],
   "source": [
    "df.columns"
   ]
  },
  {
   "cell_type": "code",
   "execution_count": 5,
   "metadata": {},
   "outputs": [],
   "source": [
    "timedf = df[['TIME']]"
   ]
  },
  {
   "cell_type": "code",
   "execution_count": 6,
   "metadata": {
    "scrolled": true
   },
   "outputs": [
    {
     "name": "stderr",
     "output_type": "stream",
     "text": [
      "/Users/ryanmichels/anaconda/lib/python3.6/site-packages/ipykernel_launcher.py:1: SettingWithCopyWarning: \n",
      "A value is trying to be set on a copy of a slice from a DataFrame.\n",
      "Try using .loc[row_indexer,col_indexer] = value instead\n",
      "\n",
      "See the caveats in the documentation: http://pandas.pydata.org/pandas-docs/stable/indexing.html#indexing-view-versus-copy\n",
      "  \"\"\"Entry point for launching an IPython kernel.\n"
     ]
    }
   ],
   "source": [
    "timedf['HOUR'] = timedf['TIME'].apply(lambda x: x.split(':')[0]) "
   ]
  },
  {
   "cell_type": "code",
   "execution_count": 7,
   "metadata": {},
   "outputs": [
    {
     "data": {
      "text/html": [
       "<div>\n",
       "<style>\n",
       "    .dataframe thead tr:only-child th {\n",
       "        text-align: right;\n",
       "    }\n",
       "\n",
       "    .dataframe thead th {\n",
       "        text-align: left;\n",
       "    }\n",
       "\n",
       "    .dataframe tbody tr th {\n",
       "        vertical-align: top;\n",
       "    }\n",
       "</style>\n",
       "<table border=\"1\" class=\"dataframe\">\n",
       "  <thead>\n",
       "    <tr style=\"text-align: right;\">\n",
       "      <th></th>\n",
       "      <th>TIME</th>\n",
       "      <th>HOUR</th>\n",
       "    </tr>\n",
       "  </thead>\n",
       "  <tbody>\n",
       "    <tr>\n",
       "      <th>0</th>\n",
       "      <td>8:06</td>\n",
       "      <td>8</td>\n",
       "    </tr>\n",
       "    <tr>\n",
       "      <th>1</th>\n",
       "      <td>14:15</td>\n",
       "      <td>14</td>\n",
       "    </tr>\n",
       "    <tr>\n",
       "      <th>2</th>\n",
       "      <td>21:00</td>\n",
       "      <td>21</td>\n",
       "    </tr>\n",
       "    <tr>\n",
       "      <th>3</th>\n",
       "      <td>11:00</td>\n",
       "      <td>11</td>\n",
       "    </tr>\n",
       "    <tr>\n",
       "      <th>4</th>\n",
       "      <td>7:45</td>\n",
       "      <td>7</td>\n",
       "    </tr>\n",
       "  </tbody>\n",
       "</table>\n",
       "</div>"
      ],
      "text/plain": [
       "    TIME HOUR\n",
       "0   8:06    8\n",
       "1  14:15   14\n",
       "2  21:00   21\n",
       "3  11:00   11\n",
       "4   7:45    7"
      ]
     },
     "execution_count": 7,
     "metadata": {},
     "output_type": "execute_result"
    }
   ],
   "source": [
    "timedf.head()"
   ]
  },
  {
   "cell_type": "code",
   "execution_count": 8,
   "metadata": {},
   "outputs": [
    {
     "data": {
      "text/plain": [
       "dtype('O')"
      ]
     },
     "execution_count": 8,
     "metadata": {},
     "output_type": "execute_result"
    }
   ],
   "source": [
    "timedf['HOUR'].dtype"
   ]
  },
  {
   "cell_type": "code",
   "execution_count": 9,
   "metadata": {},
   "outputs": [
    {
     "name": "stderr",
     "output_type": "stream",
     "text": [
      "/Users/ryanmichels/anaconda/lib/python3.6/site-packages/ipykernel_launcher.py:1: SettingWithCopyWarning: \n",
      "A value is trying to be set on a copy of a slice from a DataFrame.\n",
      "Try using .loc[row_indexer,col_indexer] = value instead\n",
      "\n",
      "See the caveats in the documentation: http://pandas.pydata.org/pandas-docs/stable/indexing.html#indexing-view-versus-copy\n",
      "  \"\"\"Entry point for launching an IPython kernel.\n"
     ]
    }
   ],
   "source": [
    "timedf['HOUR'] = timedf['HOUR'].astype(int)"
   ]
  },
  {
   "cell_type": "code",
   "execution_count": 10,
   "metadata": {},
   "outputs": [],
   "source": [
    "hours = timedf['HOUR'].value_counts()"
   ]
  },
  {
   "cell_type": "code",
   "execution_count": 11,
   "metadata": {},
   "outputs": [
    {
     "data": {
      "text/plain": [
       "16    116034\n",
       "17    112860\n",
       "14    106793\n",
       "18     98475\n",
       "15     98230\n",
       "13     92003\n",
       "8      87641\n",
       "12     87360\n",
       "9      86011\n",
       "11     82472\n",
       "19     79793\n",
       "10     79388\n",
       "20     65796\n",
       "21     54945\n",
       "22     49481\n",
       "7      45286\n",
       "0      44673\n",
       "23     40462\n",
       "6      32723\n",
       "1      24365\n",
       "5      20470\n",
       "4      18576\n",
       "2      18422\n",
       "3      15978\n",
       "Name: HOUR, dtype: int64"
      ]
     },
     "execution_count": 11,
     "metadata": {},
     "output_type": "execute_result"
    }
   ],
   "source": [
    "hours"
   ]
  },
  {
   "cell_type": "code",
   "execution_count": 12,
   "metadata": {
    "collapsed": true
   },
   "outputs": [],
   "source": [
    "hours_index = ['12 AM', '1 AM', '2 AM', '3 AM', '4 AM', '5 AM', '6 AM', '7 AM', '8 AM', '9 AM',\n",
    "              '10 AM', '11 AM', '12 PM', '1 PM', '2 PM', '3 PM', '4 PM', '5 PM', '6 PM', '7 PM', \n",
    "               '8 PM', '9 PM', '10 PM', '11 PM']\n",
    "times = np.arange(0,len(hours))"
   ]
  },
  {
   "cell_type": "code",
   "execution_count": 68,
   "metadata": {},
   "outputs": [
    {
     "data": {
      "image/png": "[encoded data removed]",
      "text/plain": [
       "<Figure size 864x576 with 1 Axes>"
      ]
     },
     "metadata": {},
     "output_type": "display_data"
    }
   ],
   "source": [
    "plt.figure(figsize=(12,8))\n",
    "plt.bar(hours.index,hours.values)\n",
    "plt.xticks(times, hours_index, rotation='vertical')\n",
    "plt.title(\"Number of Accidents by Time of Day\")\n",
    "plt.ylabel(\"Number of Accidents\")\n",
    "\n",
    "plt.savefig('Hour-Accidents.png')"
   ]
  },
  {
   "cell_type": "code",
   "execution_count": 14,
   "metadata": {},
   "outputs": [],
   "source": [
    "boroughs =  [borough for borough in df['BOROUGH'].unique() if str(borough) != 'nan']"
   ]
  },
  {
   "cell_type": "code",
   "execution_count": 15,
   "metadata": {},
   "outputs": [
    {
     "data": {
      "text/html": [
       "<div>\n",
       "<style>\n",
       "    .dataframe thead tr:only-child th {\n",
       "        text-align: right;\n",
       "    }\n",
       "\n",
       "    .dataframe thead th {\n",
       "        text-align: left;\n",
       "    }\n",
       "\n",
       "    .dataframe tbody tr th {\n",
       "        vertical-align: top;\n",
       "    }\n",
       "</style>\n",
       "<table border=\"1\" class=\"dataframe\">\n",
       "  <thead>\n",
       "    <tr style=\"text-align: right;\">\n",
       "      <th></th>\n",
       "      <th>TIME</th>\n",
       "    </tr>\n",
       "  </thead>\n",
       "  <tbody>\n",
       "    <tr>\n",
       "      <th>0</th>\n",
       "      <td>8:06</td>\n",
       "    </tr>\n",
       "    <tr>\n",
       "      <th>10</th>\n",
       "      <td>16:33</td>\n",
       "    </tr>\n",
       "    <tr>\n",
       "      <th>14</th>\n",
       "      <td>11:15</td>\n",
       "    </tr>\n",
       "    <tr>\n",
       "      <th>18</th>\n",
       "      <td>14:44</td>\n",
       "    </tr>\n",
       "    <tr>\n",
       "      <th>30</th>\n",
       "      <td>12:07</td>\n",
       "    </tr>\n",
       "  </tbody>\n",
       "</table>\n",
       "</div>"
      ],
      "text/plain": [
       "     TIME\n",
       "0    8:06\n",
       "10  16:33\n",
       "14  11:15\n",
       "18  14:44\n",
       "30  12:07"
      ]
     },
     "execution_count": 15,
     "metadata": {},
     "output_type": "execute_result"
    }
   ],
   "source": [
    "borough_test = df[df['BOROUGH']=='BROOKLYN'][['TIME']]\n",
    "borough_test.head()"
   ]
  },
  {
   "cell_type": "code",
   "execution_count": 16,
   "metadata": {
    "collapsed": true
   },
   "outputs": [],
   "source": [
    "def get_hours(df, borough):\n",
    "    \n",
    "    borough_df = df[df['BOROUGH']==borough][['TIME']]\n",
    "    borough_df['HOUR'] = borough_df['TIME'].apply(lambda x: x.split(':')[0]) \n",
    "    borough_df['HOUR'] = borough_df['HOUR'].astype(int)\n",
    "    \n",
    "    return borough_df"
   ]
  },
  {
   "cell_type": "code",
   "execution_count": 17,
   "metadata": {},
   "outputs": [
    {
     "data": {
      "text/html": [
       "<div>\n",
       "<style>\n",
       "    .dataframe thead tr:only-child th {\n",
       "        text-align: right;\n",
       "    }\n",
       "\n",
       "    .dataframe thead th {\n",
       "        text-align: left;\n",
       "    }\n",
       "\n",
       "    .dataframe tbody tr th {\n",
       "        vertical-align: top;\n",
       "    }\n",
       "</style>\n",
       "<table border=\"1\" class=\"dataframe\">\n",
       "  <thead>\n",
       "    <tr style=\"text-align: right;\">\n",
       "      <th></th>\n",
       "      <th>TIME</th>\n",
       "      <th>HOUR</th>\n",
       "    </tr>\n",
       "  </thead>\n",
       "  <tbody>\n",
       "    <tr>\n",
       "      <th>0</th>\n",
       "      <td>8:06</td>\n",
       "      <td>8</td>\n",
       "    </tr>\n",
       "    <tr>\n",
       "      <th>10</th>\n",
       "      <td>16:33</td>\n",
       "      <td>16</td>\n",
       "    </tr>\n",
       "    <tr>\n",
       "      <th>14</th>\n",
       "      <td>11:15</td>\n",
       "      <td>11</td>\n",
       "    </tr>\n",
       "    <tr>\n",
       "      <th>18</th>\n",
       "      <td>14:44</td>\n",
       "      <td>14</td>\n",
       "    </tr>\n",
       "    <tr>\n",
       "      <th>30</th>\n",
       "      <td>12:07</td>\n",
       "      <td>12</td>\n",
       "    </tr>\n",
       "  </tbody>\n",
       "</table>\n",
       "</div>"
      ],
      "text/plain": [
       "     TIME  HOUR\n",
       "0    8:06     8\n",
       "10  16:33    16\n",
       "14  11:15    11\n",
       "18  14:44    14\n",
       "30  12:07    12"
      ]
     },
     "execution_count": 17,
     "metadata": {},
     "output_type": "execute_result"
    }
   ],
   "source": [
    "get_hours(df,'BROOKLYN').head()"
   ]
  },
  {
   "cell_type": "code",
   "execution_count": 18,
   "metadata": {},
   "outputs": [
    {
     "data": {
      "image/png": "[encoded data removed]",
      "text/plain": [
       "<Figure size 864x576 with 1 Axes>"
      ]
     },
     "metadata": {},
     "output_type": "display_data"
    },
    {
     "data": {
      "image/png": "[encoded data removed]",
      "text/plain": [
       "<Figure size 864x576 with 1 Axes>"
      ]
     },
     "metadata": {},
     "output_type": "display_data"
    },
    {
     "data": {
      "image/png": "[encoded data removed]",
      "text/plain": [
       "<Figure size 864x576 with 1 Axes>"
      ]
     },
     "metadata": {},
     "output_type": "display_data"
    },
    {
     "data": {
      "image/png": "[encoded data removed]",
      "text/plain": [
       "<Figure size 864x576 with 1 Axes>"
      ]
     },
     "metadata": {},
     "output_type": "display_data"
    },
    {
     "data": {
      "image/png": "[encoded data removed]",
      "text/plain": [
       "<Figure size 864x576 with 1 Axes>"
      ]
     },
     "metadata": {},
     "output_type": "display_data"
    }
   ],
   "source": [
    "for borough in boroughs:\n",
    "    \n",
    "    b_df = get_hours(df,borough)\n",
    "    \n",
    "    hours = b_df['HOUR'].value_counts()\n",
    "\n",
    "    plt.figure(figsize=(12,8))\n",
    "    plt.bar(hours.index,hours.values)\n",
    "    plt.xticks(times, hours_index, rotation='vertical')\n",
    "    plt.title(\"Number of Accidents by Time of Day in {}\".format(borough))\n",
    "    plt.ylabel(\"Number of Accidents\")\n",
    "    plt.ylim(0,50000)\n",
    "    "
   ]
  },
  {
   "cell_type": "code",
   "execution_count": 19,
   "metadata": {},
   "outputs": [
    {
     "data": {
      "text/plain": [
       "['BROOKLYN', 'QUEENS', 'MANHATTAN', 'BRONX', 'STATEN ISLAND']"
      ]
     },
     "execution_count": 19,
     "metadata": {},
     "output_type": "execute_result"
    }
   ],
   "source": [
    "boroughs"
   ]
  },
  {
   "cell_type": "code",
   "execution_count": 20,
   "metadata": {},
   "outputs": [],
   "source": [
    "bkln = df[df['BOROUGH'] == 'BROOKLYN'][['TIME']]\n",
    "queens = df[df['BOROUGH'] == 'QUEENS'][['TIME']]\n",
    "mnhtn = df[df['BOROUGH'] == 'MANHATTAN'][['TIME']]\n",
    "brnx = df[df['BOROUGH'] == 'BRONX'][['TIME']]\n",
    "si = df[df['BOROUGH'] == 'STATEN ISLAND'][['TIME']]\n",
    "\n",
    "bkln['HOUR'] = bkln['TIME'].apply(lambda x: x.split(':')[0]) \n",
    "bkln['HOUR'] = bkln['HOUR'].astype(int)\n",
    "queens['HOUR'] = queens['TIME'].apply(lambda x: x.split(':')[0]) \n",
    "queens['HOUR'] = queens['HOUR'].astype(int)\n",
    "mnhtn['HOUR'] = mnhtn['TIME'].apply(lambda x: x.split(':')[0]) \n",
    "mnhtn['HOUR'] = mnhtn['HOUR'].astype(int)\n",
    "brnx['HOUR'] = brnx['TIME'].apply(lambda x: x.split(':')[0]) \n",
    "brnx['HOUR'] = brnx['HOUR'].astype(int)\n",
    "si['HOUR'] = si['TIME'].apply(lambda x: x.split(':')[0]) \n",
    "si['HOUR'] = si['HOUR'].astype(int)\n"
   ]
  },
  {
   "cell_type": "code",
   "execution_count": 21,
   "metadata": {},
   "outputs": [],
   "source": [
    "bkln_hours = bkln['HOUR'].value_counts()\n",
    "quen_hours = queens['HOUR'].value_counts()\n",
    "mnhtn_hours = mnhtn['HOUR'].value_counts()\n",
    "brnx_hours = brnx['HOUR'].value_counts()\n",
    "si_hours = si['HOUR'].value_counts()\n"
   ]
  },
  {
   "cell_type": "code",
   "execution_count": 69,
   "metadata": {},
   "outputs": [
    {
     "data": {
      "image/png": "[encoded data removed]",
      "text/plain": [
       "<Figure size 720x432 with 1 Axes>"
      ]
     },
     "metadata": {},
     "output_type": "display_data"
    }
   ],
   "source": [
    "plt.figure(figsize=(10,6))\n",
    "\n",
    "plt.bar(bkln_hours.index,bkln_hours.values,color='blue',alpha=.75,\n",
    "        label='Brooklyn')\n",
    "plt.bar(quen_hours.index,quen_hours.values,color='red',alpha=.75,\n",
    "        label='Queens')\n",
    "plt.bar(mnhtn_hours.index,mnhtn_hours.values,color='green', alpha=.75,\n",
    "        label='Manhattan')\n",
    "plt.bar(brnx_hours.index,brnx_hours.values,color='orange', alpha=.75,\n",
    "        label='Bronx')\n",
    "plt.bar(si_hours.index,si_hours.values,color='yellow', alpha=.75,\n",
    "        label='Staten Island')\n",
    "\n",
    "plt.xticks(times, hours_index, rotation='vertical')\n",
    "plt.title(\"Number of Accidents by Time of Day Seperated by Borough\")\n",
    "plt.ylabel(\"Number of Accidents\")\n",
    "plt.legend()\n",
    "\n",
    "plt.savefig('borough_times.png')"
   ]
  },
  {
   "cell_type": "code",
   "execution_count": 23,
   "metadata": {},
   "outputs": [
    {
     "data": {
      "text/plain": [
       "Unspecified                                              579279\n",
       "Driver Inattention/Distraction                           286053\n",
       "Failure to Yield Right-of-Way                             88020\n",
       "Following Too Closely                                     75546\n",
       "Backing Unsafely                                          59362\n",
       "Other Vehicular                                           49670\n",
       "Fatigued/Drowsy                                           46813\n",
       "Turning Improperly                                        40040\n",
       "Passing or Lane Usage Improper                            35617\n",
       "Passing Too Closely                                       32586\n",
       "Unsafe Lane Changing                                      29135\n",
       "Traffic Control Disregarded                               23767\n",
       "Driver Inexperience                                       22822\n",
       "Lost Consciousness                                        19578\n",
       "Pavement Slippery                                         15632\n",
       "Prescription Medication                                   15351\n",
       "Alcohol Involvement                                       14784\n",
       "Reaction to Uninvolved Vehicle                            12985\n",
       "Unsafe Speed                                              12773\n",
       "Outside Car Distraction                                   11686\n",
       "Oversized Vehicle                                         10151\n",
       "View Obstructed/Limited                                    9257\n",
       "Physical Disability                                        9158\n",
       "Passenger Distraction                                      6726\n",
       "Aggressive Driving/Road Rage                               5945\n",
       "Pedestrian/Bicyclist/Other Pedestrian Error/Confusion      5207\n",
       "Brakes Defective                                           4889\n",
       "Fell Asleep                                                3610\n",
       "Glare                                                      3237\n",
       "Obstruction/Debris                                         3206\n",
       "                                                          ...  \n",
       "Other Electronic Device                                    2291\n",
       "Illness                                                    2158\n",
       "Pavement Defective                                         1895\n",
       "Steering Failure                                           1765\n",
       "Tire Failure/Inadequate                                    1689\n",
       "Reaction to Other Uninvolved Vehicle                       1337\n",
       "Animals Action                                             1092\n",
       "Illnes                                                      848\n",
       "Lane Marking Improper/Inadequate                            809\n",
       "Driverless/Runaway Vehicle                                  767\n",
       "Accelerator Defective                                       748\n",
       "Traffic Control Device Improper/Non-Working                 650\n",
       "Drugs (illegal)                                             445\n",
       "Drugs (Illegal)                                             419\n",
       "Cell Phone (hand-Held)                                      317\n",
       "Cell Phone (hands-free)                                     246\n",
       "Tow Hitch Defective                                         162\n",
       "Other Lighting Defects                                      137\n",
       "80                                                          101\n",
       "Using On Board Navigation Device                             95\n",
       "Headlights Defective                                         88\n",
       "Cell Phone (hand-held)                                       79\n",
       "Tinted Windows                                               77\n",
       "Eating or Drinking                                           76\n",
       "Vehicle Vandalism                                            74\n",
       "Shoulders Defective/Improper                                 70\n",
       "Windshield Inadequate                                        67\n",
       "Texting                                                      35\n",
       "Listening/Using Headphones                                   16\n",
       "1                                                            10\n",
       "Name: CONTRIBUTING FACTOR VEHICLE 1, Length: 61, dtype: int64"
      ]
     },
     "execution_count": 23,
     "metadata": {},
     "output_type": "execute_result"
    }
   ],
   "source": [
    "df['CONTRIBUTING FACTOR VEHICLE 1'].value_counts()"
   ]
  },
  {
   "cell_type": "code",
   "execution_count": 24,
   "metadata": {},
   "outputs": [],
   "source": [
    "sleepy =  df[df['CONTRIBUTING FACTOR VEHICLE 1']=='Fatigued/Drowsy'][['TIME']]"
   ]
  },
  {
   "cell_type": "code",
   "execution_count": 25,
   "metadata": {
    "collapsed": true
   },
   "outputs": [],
   "source": [
    "sleepy['HOUR'] = sleepy['TIME'].apply(lambda x: x.split(':')[0])\n",
    "sleepy['HOUR'] = sleepy['HOUR'].astype(int)"
   ]
  },
  {
   "cell_type": "code",
   "execution_count": 26,
   "metadata": {},
   "outputs": [],
   "source": [
    "sleepy_hours = sleepy['HOUR'].value_counts()"
   ]
  },
  {
   "cell_type": "code",
   "execution_count": 27,
   "metadata": {},
   "outputs": [
    {
     "data": {
      "text/plain": [
       "16    4072\n",
       "17    3815\n",
       "14    3669\n",
       "15    3364\n",
       "18    3222\n",
       "13    3015\n",
       "8     2874\n",
       "12    2853\n",
       "11    2514\n",
       "9     2499\n",
       "19    2496\n",
       "10    2387\n",
       "20    1952\n",
       "21    1552\n",
       "7     1309\n",
       "22    1248\n",
       "23     994\n",
       "0      929\n",
       "6      819\n",
       "1      524\n",
       "2      476\n",
       "5      448\n",
       "3      394\n",
       "4      371\n",
       "Name: HOUR, dtype: int64"
      ]
     },
     "execution_count": 27,
     "metadata": {},
     "output_type": "execute_result"
    }
   ],
   "source": [
    "hours"
   ]
  },
  {
   "cell_type": "code",
   "execution_count": 70,
   "metadata": {},
   "outputs": [
    {
     "data": {
      "image/png": "[encoded data removed]",
      "text/plain": [
       "<Figure size 720x432 with 1 Axes>"
      ]
     },
     "metadata": {},
     "output_type": "display_data"
    }
   ],
   "source": [
    "plt.figure(figsize=(10,6))\n",
    "\n",
    "#plt.bar(hours.index,hours.values, color = 'red', alpha = .75 , label ='Total of Collisions')\n",
    "plt.bar(sleepy_hours.index,sleepy_hours.values, color = 'blue', alpha = .75 , label ='Reason = Fatigued/Drowsy')\n",
    "\n",
    "\n",
    "plt.xticks(times, hours_index, rotation='vertical')\n",
    "plt.title(\"Number of Accidents Contributed by Reported 'Fatigued/Drowsy' (n = 46813)\")\n",
    "plt.ylabel(\"Number of Accidents\")\n",
    "plt.legend()\n",
    "\n",
    "plt.savefig('fatigued_accidents.png')"
   ]
  },
  {
   "cell_type": "code",
   "execution_count": 29,
   "metadata": {},
   "outputs": [
    {
     "data": {
      "text/plain": [
       "Text(0, 0.5, 'Number of Accidents')"
      ]
     },
     "execution_count": 29,
     "metadata": {},
     "output_type": "execute_result"
    },
    {
     "data": {
      "image/png": "[encoded data removed]",
      "text/plain": [
       "<Figure size 864x576 with 1 Axes>"
      ]
     },
     "metadata": {},
     "output_type": "display_data"
    }
   ],
   "source": [
    "plt.figure(figsize=(12,8))\n",
    "plt.bar(hours.index,hours.values)\n",
    "plt.xticks(times, hours_index, rotation='vertical')\n",
    "plt.title(\"Number of Accidents by Time of Day\")\n",
    "plt.ylabel(\"Number of Accidents\")"
   ]
  },
  {
   "cell_type": "code",
   "execution_count": 30,
   "metadata": {},
   "outputs": [],
   "source": [
    "total_hours_df = df"
   ]
  },
  {
   "cell_type": "code",
   "execution_count": 31,
   "metadata": {
    "collapsed": true
   },
   "outputs": [],
   "source": [
    "total_hours_df['HOUR'] = total_hours_df['TIME'].apply(lambda x: x.split(':')[0])"
   ]
  },
  {
   "cell_type": "code",
   "execution_count": 32,
   "metadata": {},
   "outputs": [
    {
     "data": {
      "text/html": [
       "<div>\n",
       "<style>\n",
       "    .dataframe thead tr:only-child th {\n",
       "        text-align: right;\n",
       "    }\n",
       "\n",
       "    .dataframe thead th {\n",
       "        text-align: left;\n",
       "    }\n",
       "\n",
       "    .dataframe tbody tr th {\n",
       "        vertical-align: top;\n",
       "    }\n",
       "</style>\n",
       "<table border=\"1\" class=\"dataframe\">\n",
       "  <thead>\n",
       "    <tr style=\"text-align: right;\">\n",
       "      <th></th>\n",
       "      <th>DATE</th>\n",
       "      <th>TIME</th>\n",
       "      <th>BOROUGH</th>\n",
       "      <th>ZIP CODE</th>\n",
       "      <th>LATITUDE</th>\n",
       "      <th>LONGITUDE</th>\n",
       "      <th>LOCATION</th>\n",
       "      <th>ON STREET NAME</th>\n",
       "      <th>CROSS STREET NAME</th>\n",
       "      <th>OFF STREET NAME</th>\n",
       "      <th>...</th>\n",
       "      <th>CONTRIBUTING FACTOR VEHICLE 3</th>\n",
       "      <th>CONTRIBUTING FACTOR VEHICLE 4</th>\n",
       "      <th>CONTRIBUTING FACTOR VEHICLE 5</th>\n",
       "      <th>UNIQUE ID</th>\n",
       "      <th>VEHICLE TYPE CODE 1</th>\n",
       "      <th>VEHICLE TYPE CODE 2</th>\n",
       "      <th>VEHICLE TYPE CODE 3</th>\n",
       "      <th>VEHICLE TYPE CODE 4</th>\n",
       "      <th>VEHICLE TYPE CODE 5</th>\n",
       "      <th>HOUR</th>\n",
       "    </tr>\n",
       "  </thead>\n",
       "  <tbody>\n",
       "    <tr>\n",
       "      <th>0</th>\n",
       "      <td>07/12/2012</td>\n",
       "      <td>8:06</td>\n",
       "      <td>BROOKLYN</td>\n",
       "      <td>11230</td>\n",
       "      <td>40.619397</td>\n",
       "      <td>-73.969566</td>\n",
       "      <td>POINT (-73.9695659 40.6193973)</td>\n",
       "      <td>OCEAN PARKWAY</td>\n",
       "      <td>AVENUE L</td>\n",
       "      <td>NaN</td>\n",
       "      <td>...</td>\n",
       "      <td>Unspecified</td>\n",
       "      <td>Unspecified</td>\n",
       "      <td>NaN</td>\n",
       "      <td>130003</td>\n",
       "      <td>SPORT UTILITY / STATION WAGON</td>\n",
       "      <td>SPORT UTILITY / STATION WAGON</td>\n",
       "      <td>PASSENGER VEHICLE</td>\n",
       "      <td>SPORT UTILITY / STATION WAGON</td>\n",
       "      <td>NaN</td>\n",
       "      <td>8</td>\n",
       "    </tr>\n",
       "    <tr>\n",
       "      <th>1</th>\n",
       "      <td>07/14/2012</td>\n",
       "      <td>14:15</td>\n",
       "      <td>QUEENS</td>\n",
       "      <td>11354</td>\n",
       "      <td>40.774412</td>\n",
       "      <td>-73.806785</td>\n",
       "      <td>POINT (-73.8067849 40.774412)</td>\n",
       "      <td>25 DRIVE</td>\n",
       "      <td>157 STREET</td>\n",
       "      <td>NaN</td>\n",
       "      <td>...</td>\n",
       "      <td>NaN</td>\n",
       "      <td>NaN</td>\n",
       "      <td>NaN</td>\n",
       "      <td>245755</td>\n",
       "      <td>PASSENGER VEHICLE</td>\n",
       "      <td>PASSENGER VEHICLE</td>\n",
       "      <td>NaN</td>\n",
       "      <td>NaN</td>\n",
       "      <td>NaN</td>\n",
       "      <td>14</td>\n",
       "    </tr>\n",
       "    <tr>\n",
       "      <th>2</th>\n",
       "      <td>07/14/2012</td>\n",
       "      <td>21:00</td>\n",
       "      <td>QUEENS</td>\n",
       "      <td>11372</td>\n",
       "      <td>40.753538</td>\n",
       "      <td>-73.886897</td>\n",
       "      <td>POINT (-73.8868974 40.7535377)</td>\n",
       "      <td>80 STREET</td>\n",
       "      <td>34 AVENUE</td>\n",
       "      <td>NaN</td>\n",
       "      <td>...</td>\n",
       "      <td>NaN</td>\n",
       "      <td>NaN</td>\n",
       "      <td>NaN</td>\n",
       "      <td>279750</td>\n",
       "      <td>PASSENGER VEHICLE</td>\n",
       "      <td>UNKNOWN</td>\n",
       "      <td>NaN</td>\n",
       "      <td>NaN</td>\n",
       "      <td>NaN</td>\n",
       "      <td>21</td>\n",
       "    </tr>\n",
       "    <tr>\n",
       "      <th>3</th>\n",
       "      <td>07/15/2012</td>\n",
       "      <td>11:00</td>\n",
       "      <td>MANHATTAN</td>\n",
       "      <td>10028</td>\n",
       "      <td>40.778815</td>\n",
       "      <td>-73.956083</td>\n",
       "      <td>POINT (-73.9560828 40.7788145)</td>\n",
       "      <td>EAST 85 STREET</td>\n",
       "      <td>LEXINGTON AVENUE</td>\n",
       "      <td>NaN</td>\n",
       "      <td>...</td>\n",
       "      <td>NaN</td>\n",
       "      <td>NaN</td>\n",
       "      <td>NaN</td>\n",
       "      <td>45066</td>\n",
       "      <td>TAXI</td>\n",
       "      <td>TAXI</td>\n",
       "      <td>NaN</td>\n",
       "      <td>NaN</td>\n",
       "      <td>NaN</td>\n",
       "      <td>11</td>\n",
       "    </tr>\n",
       "    <tr>\n",
       "      <th>4</th>\n",
       "      <td>07/06/2012</td>\n",
       "      <td>7:45</td>\n",
       "      <td>QUEENS</td>\n",
       "      <td>11101</td>\n",
       "      <td>40.744658</td>\n",
       "      <td>-73.948523</td>\n",
       "      <td>POINT (-73.9485231 40.7446585)</td>\n",
       "      <td>JACKSON AVENUE</td>\n",
       "      <td>21 STREET</td>\n",
       "      <td>NaN</td>\n",
       "      <td>...</td>\n",
       "      <td>NaN</td>\n",
       "      <td>NaN</td>\n",
       "      <td>NaN</td>\n",
       "      <td>238689</td>\n",
       "      <td>SPORT UTILITY / STATION WAGON</td>\n",
       "      <td>LARGE COM VEH(6 OR MORE TIRES)</td>\n",
       "      <td>NaN</td>\n",
       "      <td>NaN</td>\n",
       "      <td>NaN</td>\n",
       "      <td>7</td>\n",
       "    </tr>\n",
       "  </tbody>\n",
       "</table>\n",
       "<p>5 rows × 30 columns</p>\n",
       "</div>"
      ],
      "text/plain": [
       "         DATE   TIME    BOROUGH ZIP CODE   LATITUDE  LONGITUDE  \\\n",
       "0  07/12/2012   8:06   BROOKLYN    11230  40.619397 -73.969566   \n",
       "1  07/14/2012  14:15     QUEENS    11354  40.774412 -73.806785   \n",
       "2  07/14/2012  21:00     QUEENS    11372  40.753538 -73.886897   \n",
       "3  07/15/2012  11:00  MANHATTAN    10028  40.778815 -73.956083   \n",
       "4  07/06/2012   7:45     QUEENS    11101  40.744658 -73.948523   \n",
       "\n",
       "                         LOCATION                    ON STREET NAME  \\\n",
       "0  POINT (-73.9695659 40.6193973)  OCEAN PARKWAY                      \n",
       "1   POINT (-73.8067849 40.774412)  25 DRIVE                           \n",
       "2  POINT (-73.8868974 40.7535377)  80 STREET                          \n",
       "3  POINT (-73.9560828 40.7788145)  EAST 85 STREET                     \n",
       "4  POINT (-73.9485231 40.7446585)  JACKSON AVENUE                     \n",
       "\n",
       "                  CROSS STREET NAME OFF STREET NAME ...   \\\n",
       "0  AVENUE L                                     NaN ...    \n",
       "1  157 STREET                                   NaN ...    \n",
       "2  34 AVENUE                                    NaN ...    \n",
       "3  LEXINGTON AVENUE                             NaN ...    \n",
       "4  21 STREET                                    NaN ...    \n",
       "\n",
       "   CONTRIBUTING FACTOR VEHICLE 3  CONTRIBUTING FACTOR VEHICLE 4  \\\n",
       "0                    Unspecified                    Unspecified   \n",
       "1                            NaN                            NaN   \n",
       "2                            NaN                            NaN   \n",
       "3                            NaN                            NaN   \n",
       "4                            NaN                            NaN   \n",
       "\n",
       "   CONTRIBUTING FACTOR VEHICLE 5  UNIQUE ID            VEHICLE TYPE CODE 1  \\\n",
       "0                            NaN     130003  SPORT UTILITY / STATION WAGON   \n",
       "1                            NaN     245755              PASSENGER VEHICLE   \n",
       "2                            NaN     279750              PASSENGER VEHICLE   \n",
       "3                            NaN      45066                           TAXI   \n",
       "4                            NaN     238689  SPORT UTILITY / STATION WAGON   \n",
       "\n",
       "              VEHICLE TYPE CODE 2  VEHICLE TYPE CODE 3  \\\n",
       "0   SPORT UTILITY / STATION WAGON    PASSENGER VEHICLE   \n",
       "1               PASSENGER VEHICLE                  NaN   \n",
       "2                         UNKNOWN                  NaN   \n",
       "3                            TAXI                  NaN   \n",
       "4  LARGE COM VEH(6 OR MORE TIRES)                  NaN   \n",
       "\n",
       "             VEHICLE TYPE CODE 4 VEHICLE TYPE CODE 5 HOUR  \n",
       "0  SPORT UTILITY / STATION WAGON                 NaN    8  \n",
       "1                            NaN                 NaN   14  \n",
       "2                            NaN                 NaN   21  \n",
       "3                            NaN                 NaN   11  \n",
       "4                            NaN                 NaN    7  \n",
       "\n",
       "[5 rows x 30 columns]"
      ]
     },
     "execution_count": 32,
     "metadata": {},
     "output_type": "execute_result"
    }
   ],
   "source": [
    "total_hours_df.head()"
   ]
  },
  {
   "cell_type": "code",
   "execution_count": 33,
   "metadata": {},
   "outputs": [],
   "source": [
    "ra = total_hours_df.groupby('HOUR')[['DATE']].count()"
   ]
  },
  {
   "cell_type": "code",
   "execution_count": 34,
   "metadata": {},
   "outputs": [],
   "source": [
    "ra['HOUR']=ra.index"
   ]
  },
  {
   "cell_type": "code",
   "execution_count": 35,
   "metadata": {},
   "outputs": [],
   "source": [
    "ra['HOUR'] = ra['HOUR'].astype(int)"
   ]
  },
  {
   "cell_type": "code",
   "execution_count": 36,
   "metadata": {},
   "outputs": [],
   "source": [
    "ra = ra.sort_values(by='HOUR',ascending=True)"
   ]
  },
  {
   "cell_type": "code",
   "execution_count": 37,
   "metadata": {},
   "outputs": [],
   "source": [
    "ra = ra.reset_index(drop=True)"
   ]
  },
  {
   "cell_type": "code",
   "execution_count": 73,
   "metadata": {},
   "outputs": [
    {
     "data": {
      "image/png": "[encoded data removed]",
      "text/plain": [
       "<Figure size 864x576 with 1 Axes>"
      ]
     },
     "metadata": {},
     "output_type": "display_data"
    }
   ],
   "source": [
    "plt.figure(figsize=(12,8))\n",
    "\n",
    "\n",
    "plt.plot(ra['DATE'].rolling(window=4).mean(),label='Rolling Average of 4 Hours')\n",
    "plt.axhline(y=ra['DATE'].mean(), color='r', linestyle='-', label='Mean of Collisions')\n",
    "plt.plot(ra['DATE'],label='Number of Collisions')\n",
    "plt.ylabel(\"Number of Accidents\")\n",
    "plt.title(\"Rolling Average of Collisons with 4 Hour Window\")\n",
    "\n",
    "plt.legend()\n",
    "plt.xticks(times, hours_index, rotation='vertical')\n",
    "\n",
    "\n",
    "plt.savefig('rolling_average.png')"
   ]
  },
  {
   "cell_type": "code",
   "execution_count": 45,
   "metadata": {},
   "outputs": [],
   "source": [
    "sleepy_pct = sleepy.groupby('HOUR')[['TIME']].count()"
   ]
  },
  {
   "cell_type": "code",
   "execution_count": 46,
   "metadata": {},
   "outputs": [],
   "source": [
    "sleepy_pct['TIME PERCENTAGE'] = sleepy_pct.apply(lambda x: (x/sleepy_pct['TIME'].sum()*100))"
   ]
  },
  {
   "cell_type": "code",
   "execution_count": 47,
   "metadata": {},
   "outputs": [],
   "source": [
    "timedf_pct = timedf.groupby('HOUR')[['TIME']].count()"
   ]
  },
  {
   "cell_type": "code",
   "execution_count": 48,
   "metadata": {},
   "outputs": [],
   "source": [
    "timedf_pct['TIME PERCENTAGE'] = timedf_pct.apply(lambda x: (x/timedf_pct['TIME'].sum()*100))"
   ]
  },
  {
   "cell_type": "code",
   "execution_count": 44,
   "metadata": {},
   "outputs": [
    {
     "data": {
      "text/html": [
       "<div>\n",
       "<style>\n",
       "    .dataframe thead tr:only-child th {\n",
       "        text-align: right;\n",
       "    }\n",
       "\n",
       "    .dataframe thead th {\n",
       "        text-align: left;\n",
       "    }\n",
       "\n",
       "    .dataframe tbody tr th {\n",
       "        vertical-align: top;\n",
       "    }\n",
       "</style>\n",
       "<table border=\"1\" class=\"dataframe\">\n",
       "  <thead>\n",
       "    <tr style=\"text-align: right;\">\n",
       "      <th></th>\n",
       "      <th>TIME</th>\n",
       "      <th>TIME PERCENTAGE</th>\n",
       "    </tr>\n",
       "    <tr>\n",
       "      <th>HOUR</th>\n",
       "      <th></th>\n",
       "      <th></th>\n",
       "    </tr>\n",
       "  </thead>\n",
       "  <tbody>\n",
       "    <tr>\n",
       "      <th>0</th>\n",
       "      <td>44673</td>\n",
       "      <td>2.866894</td>\n",
       "    </tr>\n",
       "    <tr>\n",
       "      <th>1</th>\n",
       "      <td>24365</td>\n",
       "      <td>1.563626</td>\n",
       "    </tr>\n",
       "    <tr>\n",
       "      <th>2</th>\n",
       "      <td>18422</td>\n",
       "      <td>1.182234</td>\n",
       "    </tr>\n",
       "    <tr>\n",
       "      <th>3</th>\n",
       "      <td>15978</td>\n",
       "      <td>1.025390</td>\n",
       "    </tr>\n",
       "    <tr>\n",
       "      <th>4</th>\n",
       "      <td>18576</td>\n",
       "      <td>1.192116</td>\n",
       "    </tr>\n",
       "    <tr>\n",
       "      <th>5</th>\n",
       "      <td>20470</td>\n",
       "      <td>1.313664</td>\n",
       "    </tr>\n",
       "    <tr>\n",
       "      <th>6</th>\n",
       "      <td>32723</td>\n",
       "      <td>2.100001</td>\n",
       "    </tr>\n",
       "    <tr>\n",
       "      <th>7</th>\n",
       "      <td>45286</td>\n",
       "      <td>2.906233</td>\n",
       "    </tr>\n",
       "    <tr>\n",
       "      <th>8</th>\n",
       "      <td>87641</td>\n",
       "      <td>5.624369</td>\n",
       "    </tr>\n",
       "    <tr>\n",
       "      <th>9</th>\n",
       "      <td>86011</td>\n",
       "      <td>5.519764</td>\n",
       "    </tr>\n",
       "    <tr>\n",
       "      <th>10</th>\n",
       "      <td>79388</td>\n",
       "      <td>5.094732</td>\n",
       "    </tr>\n",
       "    <tr>\n",
       "      <th>11</th>\n",
       "      <td>82472</td>\n",
       "      <td>5.292648</td>\n",
       "    </tr>\n",
       "    <tr>\n",
       "      <th>12</th>\n",
       "      <td>87360</td>\n",
       "      <td>5.606336</td>\n",
       "    </tr>\n",
       "    <tr>\n",
       "      <th>13</th>\n",
       "      <td>92003</td>\n",
       "      <td>5.904301</td>\n",
       "    </tr>\n",
       "    <tr>\n",
       "      <th>14</th>\n",
       "      <td>106793</td>\n",
       "      <td>6.853450</td>\n",
       "    </tr>\n",
       "    <tr>\n",
       "      <th>15</th>\n",
       "      <td>98230</td>\n",
       "      <td>6.303919</td>\n",
       "    </tr>\n",
       "    <tr>\n",
       "      <th>16</th>\n",
       "      <td>116034</td>\n",
       "      <td>7.446492</td>\n",
       "    </tr>\n",
       "    <tr>\n",
       "      <th>17</th>\n",
       "      <td>112860</td>\n",
       "      <td>7.242801</td>\n",
       "    </tr>\n",
       "    <tr>\n",
       "      <th>18</th>\n",
       "      <td>98475</td>\n",
       "      <td>6.319642</td>\n",
       "    </tr>\n",
       "    <tr>\n",
       "      <th>19</th>\n",
       "      <td>79793</td>\n",
       "      <td>5.120723</td>\n",
       "    </tr>\n",
       "    <tr>\n",
       "      <th>20</th>\n",
       "      <td>65796</td>\n",
       "      <td>4.222464</td>\n",
       "    </tr>\n",
       "    <tr>\n",
       "      <th>21</th>\n",
       "      <td>54945</td>\n",
       "      <td>3.526100</td>\n",
       "    </tr>\n",
       "    <tr>\n",
       "      <th>22</th>\n",
       "      <td>49481</td>\n",
       "      <td>3.175448</td>\n",
       "    </tr>\n",
       "    <tr>\n",
       "      <th>23</th>\n",
       "      <td>40462</td>\n",
       "      <td>2.596652</td>\n",
       "    </tr>\n",
       "  </tbody>\n",
       "</table>\n",
       "</div>"
      ],
      "text/plain": [
       "        TIME  TIME PERCENTAGE\n",
       "HOUR                         \n",
       "0      44673         2.866894\n",
       "1      24365         1.563626\n",
       "2      18422         1.182234\n",
       "3      15978         1.025390\n",
       "4      18576         1.192116\n",
       "5      20470         1.313664\n",
       "6      32723         2.100001\n",
       "7      45286         2.906233\n",
       "8      87641         5.624369\n",
       "9      86011         5.519764\n",
       "10     79388         5.094732\n",
       "11     82472         5.292648\n",
       "12     87360         5.606336\n",
       "13     92003         5.904301\n",
       "14    106793         6.853450\n",
       "15     98230         6.303919\n",
       "16    116034         7.446492\n",
       "17    112860         7.242801\n",
       "18     98475         6.319642\n",
       "19     79793         5.120723\n",
       "20     65796         4.222464\n",
       "21     54945         3.526100\n",
       "22     49481         3.175448\n",
       "23     40462         2.596652"
      ]
     },
     "execution_count": 44,
     "metadata": {},
     "output_type": "execute_result"
    }
   ],
   "source": [
    "timedf_pct"
   ]
  },
  {
   "cell_type": "code",
   "execution_count": 72,
   "metadata": {
    "scrolled": true
   },
   "outputs": [
    {
     "data": {
      "image/png": "[encoded data removed]",
      "text/plain": [
       "<Figure size 864x576 with 1 Axes>"
      ]
     },
     "metadata": {},
     "output_type": "display_data"
    }
   ],
   "source": [
    "plt.figure(figsize=(12,8))\n",
    "\n",
    "\n",
    "plt.bar(sleepy_pct.index,sleepy_pct['TIME PERCENTAGE'],alpha=.50,label='Reason: Fatigued/Drowsy')\n",
    "plt.bar(timedf_pct.index,timedf_pct['TIME PERCENTAGE'],alpha=.50, label = 'All Reasons')\n",
    "\n",
    "\n",
    "plt.ylabel('Percentage of Total Collisions')\n",
    "plt.xticks(times, hours_index, rotation='vertical')\n",
    "plt.title('Comparing Accidents Caused by Fatigued/Drowsiness to Total Accidents')\n",
    "plt.legend()\n",
    "\n",
    "plt.gca().set_yticklabels(['{:.0f}%'.format(x) for x in plt.gca().get_yticks()]) \n",
    "\n",
    "plt.savefig('fatigued_compare_hours.png')"
   ]
  },
  {
   "cell_type": "code",
   "execution_count": 50,
   "metadata": {},
   "outputs": [],
   "source": [
    "chi_s = ra[(ra['HOUR']==7) | (ra['HOUR']==8) | (ra['HOUR']==9)]"
   ]
  },
  {
   "cell_type": "code",
   "execution_count": 51,
   "metadata": {},
   "outputs": [],
   "source": [
    "chi_s = chi_s.rename(columns={'DATE':'OBSERVED'}) "
   ]
  },
  {
   "cell_type": "code",
   "execution_count": 52,
   "metadata": {},
   "outputs": [],
   "source": [
    "chi_s['EXPECTED'] = round(ra['DATE'].mean())"
   ]
  },
  {
   "cell_type": "code",
   "execution_count": 53,
   "metadata": {},
   "outputs": [
    {
     "data": {
      "text/html": [
       "<div>\n",
       "<style>\n",
       "    .dataframe thead tr:only-child th {\n",
       "        text-align: right;\n",
       "    }\n",
       "\n",
       "    .dataframe thead th {\n",
       "        text-align: left;\n",
       "    }\n",
       "\n",
       "    .dataframe tbody tr th {\n",
       "        vertical-align: top;\n",
       "    }\n",
       "</style>\n",
       "<table border=\"1\" class=\"dataframe\">\n",
       "  <thead>\n",
       "    <tr style=\"text-align: right;\">\n",
       "      <th></th>\n",
       "      <th>OBSERVED</th>\n",
       "      <th>HOUR</th>\n",
       "      <th>EXPECTED</th>\n",
       "    </tr>\n",
       "  </thead>\n",
       "  <tbody>\n",
       "    <tr>\n",
       "      <th>7</th>\n",
       "      <td>45286</td>\n",
       "      <td>7</td>\n",
       "      <td>64927</td>\n",
       "    </tr>\n",
       "    <tr>\n",
       "      <th>8</th>\n",
       "      <td>87641</td>\n",
       "      <td>8</td>\n",
       "      <td>64927</td>\n",
       "    </tr>\n",
       "    <tr>\n",
       "      <th>9</th>\n",
       "      <td>86011</td>\n",
       "      <td>9</td>\n",
       "      <td>64927</td>\n",
       "    </tr>\n",
       "  </tbody>\n",
       "</table>\n",
       "</div>"
      ],
      "text/plain": [
       "   OBSERVED  HOUR  EXPECTED\n",
       "7     45286     7     64927\n",
       "8     87641     8     64927\n",
       "9     86011     9     64927"
      ]
     },
     "execution_count": 53,
     "metadata": {},
     "output_type": "execute_result"
    }
   ],
   "source": [
    "chi_s"
   ]
  },
  {
   "cell_type": "code",
   "execution_count": 54,
   "metadata": {},
   "outputs": [
    {
     "name": "stdout",
     "output_type": "stream",
     "text": [
      "5.99146454711\n"
     ]
    }
   ],
   "source": [
    "import scipy.stats as stats\n",
    "\n",
    "critical_value = stats.chi2.ppf(q = 0.95, df = 2)\n",
    "print(critical_value)"
   ]
  },
  {
   "cell_type": "code",
   "execution_count": 55,
   "metadata": {},
   "outputs": [
    {
     "data": {
      "text/plain": [
       "Power_divergenceResult(statistic=20734.513114728848, pvalue=0.0)"
      ]
     },
     "execution_count": 55,
     "metadata": {},
     "output_type": "execute_result"
    }
   ],
   "source": [
    "stats.chisquare(chi_s['OBSERVED'],chi_s['EXPECTED'])"
   ]
  },
  {
   "cell_type": "code",
   "execution_count": 56,
   "metadata": {
    "collapsed": true
   },
   "outputs": [],
   "source": [
    "chi_s2 = ra[(ra['HOUR']==8) | (ra['HOUR']==9)| (ra['HOUR']==10) | (ra['HOUR']==16) | (ra['HOUR']==17) | (ra['HOUR']==18)]"
   ]
  },
  {
   "cell_type": "code",
   "execution_count": 57,
   "metadata": {},
   "outputs": [
    {
     "data": {
      "text/html": [
       "<div>\n",
       "<style>\n",
       "    .dataframe thead tr:only-child th {\n",
       "        text-align: right;\n",
       "    }\n",
       "\n",
       "    .dataframe thead th {\n",
       "        text-align: left;\n",
       "    }\n",
       "\n",
       "    .dataframe tbody tr th {\n",
       "        vertical-align: top;\n",
       "    }\n",
       "</style>\n",
       "<table border=\"1\" class=\"dataframe\">\n",
       "  <thead>\n",
       "    <tr style=\"text-align: right;\">\n",
       "      <th></th>\n",
       "      <th>OBSERVED</th>\n",
       "      <th>HOUR</th>\n",
       "      <th>EXPECTED</th>\n",
       "    </tr>\n",
       "  </thead>\n",
       "  <tbody>\n",
       "    <tr>\n",
       "      <th>8</th>\n",
       "      <td>87641</td>\n",
       "      <td>8</td>\n",
       "      <td>64927</td>\n",
       "    </tr>\n",
       "    <tr>\n",
       "      <th>9</th>\n",
       "      <td>86011</td>\n",
       "      <td>9</td>\n",
       "      <td>64927</td>\n",
       "    </tr>\n",
       "    <tr>\n",
       "      <th>10</th>\n",
       "      <td>79388</td>\n",
       "      <td>10</td>\n",
       "      <td>64927</td>\n",
       "    </tr>\n",
       "    <tr>\n",
       "      <th>16</th>\n",
       "      <td>116034</td>\n",
       "      <td>16</td>\n",
       "      <td>64927</td>\n",
       "    </tr>\n",
       "    <tr>\n",
       "      <th>17</th>\n",
       "      <td>112860</td>\n",
       "      <td>17</td>\n",
       "      <td>64927</td>\n",
       "    </tr>\n",
       "    <tr>\n",
       "      <th>18</th>\n",
       "      <td>98475</td>\n",
       "      <td>18</td>\n",
       "      <td>64927</td>\n",
       "    </tr>\n",
       "  </tbody>\n",
       "</table>\n",
       "</div>"
      ],
      "text/plain": [
       "    OBSERVED  HOUR  EXPECTED\n",
       "8      87641     8     64927\n",
       "9      86011     9     64927\n",
       "10     79388    10     64927\n",
       "16    116034    16     64927\n",
       "17    112860    17     64927\n",
       "18     98475    18     64927"
      ]
     },
     "execution_count": 57,
     "metadata": {},
     "output_type": "execute_result"
    }
   ],
   "source": [
    "chi_s2 = chi_s2.rename(columns={'DATE':'OBSERVED'}) \n",
    "chi_s2['EXPECTED'] = round(ra['DATE'].mean())\n",
    "chi_s2"
   ]
  },
  {
   "cell_type": "code",
   "execution_count": 58,
   "metadata": {},
   "outputs": [
    {
     "name": "stdout",
     "output_type": "stream",
     "text": [
      "11.0704976935\n"
     ]
    }
   ],
   "source": [
    "critical_value = stats.chi2.ppf(q = 0.95, df = 5)\n",
    "print(critical_value)"
   ]
  },
  {
   "cell_type": "code",
   "execution_count": 59,
   "metadata": {},
   "outputs": [
    {
     "data": {
      "text/plain": [
       "Power_divergenceResult(statistic=110963.81497682013, pvalue=0.0)"
      ]
     },
     "execution_count": 59,
     "metadata": {},
     "output_type": "execute_result"
    }
   ],
   "source": [
    "stats.chisquare(chi_s2['OBSERVED'],chi_s2['EXPECTED'])"
   ]
  },
  {
   "cell_type": "code",
   "execution_count": 62,
   "metadata": {},
   "outputs": [
    {
     "data": {
      "text/html": [
       "<div>\n",
       "<style>\n",
       "    .dataframe thead tr:only-child th {\n",
       "        text-align: right;\n",
       "    }\n",
       "\n",
       "    .dataframe thead th {\n",
       "        text-align: left;\n",
       "    }\n",
       "\n",
       "    .dataframe tbody tr th {\n",
       "        vertical-align: top;\n",
       "    }\n",
       "</style>\n",
       "<table border=\"1\" class=\"dataframe\">\n",
       "  <thead>\n",
       "    <tr style=\"text-align: right;\">\n",
       "      <th></th>\n",
       "      <th>OBSERVED</th>\n",
       "      <th>HOUR</th>\n",
       "      <th>EXPECTED</th>\n",
       "    </tr>\n",
       "  </thead>\n",
       "  <tbody>\n",
       "    <tr>\n",
       "      <th>2</th>\n",
       "      <td>18422</td>\n",
       "      <td>2</td>\n",
       "      <td>64927</td>\n",
       "    </tr>\n",
       "    <tr>\n",
       "      <th>14</th>\n",
       "      <td>106793</td>\n",
       "      <td>14</td>\n",
       "      <td>64927</td>\n",
       "    </tr>\n",
       "    <tr>\n",
       "      <th>21</th>\n",
       "      <td>54945</td>\n",
       "      <td>21</td>\n",
       "      <td>64927</td>\n",
       "    </tr>\n",
       "  </tbody>\n",
       "</table>\n",
       "</div>"
      ],
      "text/plain": [
       "    OBSERVED  HOUR  EXPECTED\n",
       "2      18422     2     64927\n",
       "14    106793    14     64927\n",
       "21     54945    21     64927"
      ]
     },
     "execution_count": 62,
     "metadata": {},
     "output_type": "execute_result"
    }
   ],
   "source": [
    "chi_s3 = ra[(ra['HOUR']==2) | (ra['HOUR']==14)| (ra['HOUR']==21)] \n",
    "chi_s3 = chi_s3.rename(columns={'DATE':'OBSERVED'}) \n",
    "chi_s3['EXPECTED'] = round(ra['DATE'].mean())\n",
    "\n",
    "\n",
    "\n",
    "\n",
    "critical_value = stats.chi2.ppf(q = 0.95, df = 2)\n",
    "chi_s3"
   ]
  },
  {
   "cell_type": "code",
   "execution_count": 63,
   "metadata": {},
   "outputs": [
    {
     "name": "stdout",
     "output_type": "stream",
     "text": [
      "5.99146454711\n"
     ]
    }
   ],
   "source": [
    "critical_value = stats.chi2.ppf(q = 0.95, df = 2)\n",
    "print(critical_value)"
   ]
  },
  {
   "cell_type": "code",
   "execution_count": 64,
   "metadata": {},
   "outputs": [
    {
     "data": {
      "text/plain": [
       "Power_divergenceResult(statistic=61840.487085496025, pvalue=0.0)"
      ]
     },
     "execution_count": 64,
     "metadata": {},
     "output_type": "execute_result"
    }
   ],
   "source": [
    "stats.chisquare(chi_s3['OBSERVED'],chi_s3['EXPECTED'])"
   ]
  },
  {
   "cell_type": "code",
   "execution_count": null,
   "metadata": {
    "collapsed": true
   },
   "outputs": [],
   "source": []
  }
 ],
 "metadata": {
  "kernelspec": {
   "display_name": "Python 3",
   "language": "python",
   "name": "python3"
  },
  "language_info": {
   "codemirror_mode": {
    "name": "ipython",
    "version": 3
   },
   "file_extension": ".py",
   "mimetype": "text/x-python",
   "name": "python",
   "nbconvert_exporter": "python",
   "pygments_lexer": "ipython3",
   "version": "3.6.1"
  }
 },
 "nbformat": 4,
 "nbformat_minor": 2
}
